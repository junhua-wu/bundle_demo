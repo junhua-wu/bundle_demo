{
 "cells": [
  {
   "cell_type": "code",
   "execution_count": 0,
   "metadata": {
    "application/vnd.databricks.v1+cell": {
     "cellMetadata": {
      "byteLimit": 2048000,
      "rowLimit": 10000
     },
     "inputWidgets": {},
     "nuid": "04885097-aa46-41d1-96d5-3a20aec5256d",
     "showTitle": false,
     "title": ""
    }
   },
   "outputs": [],
   "source": [
    "import mlflow\n",
    "from mlflow.pyfunc.model import PythonModelContext\n",
    "from typing import Optional, Dict, List, Any, Union\n",
    "\n",
    "import pandas as pd\n",
    "import numpy as np\n",
    "import mlflow.deployments\n",
    "import multiprocessing as mp\n"
   ]
  },
  {
   "cell_type": "code",
   "execution_count": 0,
   "metadata": {
    "application/vnd.databricks.v1+cell": {
     "cellMetadata": {
      "byteLimit": 2048000,
      "rowLimit": 10000
     },
     "inputWidgets": {},
     "nuid": "df3ed2b8-fee6-4305-86a8-ba8dfe158a48",
     "showTitle": false,
     "title": ""
    }
   },
   "outputs": [],
   "source": [
    "mlflow.set_registry_uri(\"databricks-uc\")\n",
    "deploy_client = mlflow.deployments.get_deploy_client(\"databricks\")\n",
    "\n",
    "CATALOG = \"jun_demo\"\n",
    "SCHEMA = \"test\"\n",
    "REGISTRED_MODEL_NAME = \"test_model\"\n",
    "\n",
    "\n",
    "class BGERerankerUdfModel(mlflow.pyfunc.PythonModel):\n",
    "\n",
    "    @staticmethod\n",
    "    def query_reranker(sentence1: pd.Series, sentence2: pd.Series) -> pd.Series:\n",
    "      inp = {\n",
    "        \"inputs\": {\n",
    "            \"sentence1\": sentence1.to_list(),\n",
    "            \"sentence2\": sentence2.to_list(),\n",
    "            }\n",
    "      }\n",
    "      response = deploy_client.predict(endpoint=\"bge-reranker\", inputs=inp)\n",
    "      return pd.Series(response[\"predictions\"], index=sentence1.index)\n",
    "\n",
    "\n",
    "    @staticmethod\n",
    "    def func(df):\n",
    "      if df.empty:\n",
    "        return pd.Series([], dtype=np.float32)\n",
    "      return BGERerankerUdfModel.query_reranker(df[\"sentence1\"], df[\"sentence2\"])\n",
    "\n",
    "\n",
    "    def load_context(self, context: PythonModelContext):\n",
    "      from pyspark.sql import SparkSession\n",
    "      self.spark = SparkSession.builder.getOrCreate()     \n",
    "      self.model_name = REGISTRED_MODEL_NAME \n",
    "    \n",
    "\n",
    "    def predict(self, context: PythonModelContext, model_input: pd.DataFrame, params: Optional[Dict[str, Any]] = None):\n",
    "      no_of_concurrency = params.get(\"no_of_concurrency\", 4)\n",
    "\n",
    "      dfs = np.array_split(model_input, no_of_concurrency) # divide the dataframe as desired\n",
    "\n",
    "      with mp.Pool(no_of_concurrency) as pool:\n",
    "          scores = pd.concat(pool.map(BGERerankerUdfModel.func, dfs))\n",
    "\n",
    "      return model_input.assign(scores=scores)\n",
    "    \n",
    "  "
   ]
  },
  {
   "cell_type": "code",
   "execution_count": 0,
   "metadata": {
    "application/vnd.databricks.v1+cell": {
     "cellMetadata": {
      "byteLimit": 2048000,
      "rowLimit": 10000
     },
     "inputWidgets": {},
     "nuid": "762ca592-b0e7-46df-af59-e9ceaf79e6b3",
     "showTitle": false,
     "title": ""
    }
   },
   "outputs": [
    {
     "output_type": "display_data",
     "data": {
      "text/html": [
       "<style scoped>\n",
       "  .table-result-container {\n",
       "    max-height: 300px;\n",
       "    overflow: auto;\n",
       "  }\n",
       "  table, th, td {\n",
       "    border: 1px solid black;\n",
       "    border-collapse: collapse;\n",
       "  }\n",
       "  th, td {\n",
       "    padding: 5px;\n",
       "  }\n",
       "  th {\n",
       "    text-align: left;\n",
       "  }\n",
       "</style><div class='table-result-container'><table class='table-result'><thead style='background-color: white'><tr><th>sentence1</th><th>sentence2</th><th>scores</th></tr></thead><tbody><tr><td>What is Python?</td><td>My first paragraph</td><td>-9.444510459899902</td></tr><tr><td>What is Python?</td><td>That contains information</td><td>-1.8268609046936035</td></tr><tr><td>What is Python?</td><td>information</td><td>-4.175684928894043</td></tr><tr><td>What is Python?</td><td>Python is a programming language</td><td>6.134361267089844</td></tr><tr><td>What is Python?</td><td>Python</td><td>2.210157632827759</td></tr><tr><td>What is Python?</td><td>is</td><td>-3.809581995010376</td></tr><tr><td>What is Python?</td><td>program</td><td>0.7984319925308228</td></tr><tr><td>What is Python?</td><td>language</td><td>-0.047962214797735214</td></tr></tbody></table></div>"
      ]
     },
     "metadata": {
      "application/vnd.databricks.v1+output": {
       "addedWidgets": {},
       "aggData": [],
       "aggError": "",
       "aggOverflow": false,
       "aggSchema": [],
       "aggSeriesLimitReached": false,
       "aggType": "",
       "arguments": {},
       "columnCustomDisplayInfos": {},
       "data": [
        [
         "What is Python?",
         "My first paragraph",
         -9.444510459899902
        ],
        [
         "What is Python?",
         "That contains information",
         -1.8268609046936035
        ],
        [
         "What is Python?",
         "information",
         -4.175684928894043
        ],
        [
         "What is Python?",
         "Python is a programming language",
         6.134361267089844
        ],
        [
         "What is Python?",
         "Python",
         2.210157632827759
        ],
        [
         "What is Python?",
         "is",
         -3.809581995010376
        ],
        [
         "What is Python?",
         "program",
         0.7984319925308228
        ],
        [
         "What is Python?",
         "language",
         -0.047962214797735214
        ]
       ],
       "datasetInfos": [],
       "dbfsResultPath": null,
       "isJsonSchema": true,
       "metadata": {},
       "overflow": false,
       "plotOptions": {
        "customPlotOptions": {},
        "displayType": "table",
        "pivotAggregation": null,
        "pivotColumns": null,
        "xColumns": null,
        "yColumns": null
       },
       "removedWidgets": [],
       "schema": [
        {
         "metadata": "{}",
         "name": "sentence1",
         "type": "\"string\""
        },
        {
         "metadata": "{}",
         "name": "sentence2",
         "type": "\"string\""
        },
        {
         "metadata": "{}",
         "name": "scores",
         "type": "\"double\""
        }
       ],
       "type": "table"
      }
     },
     "output_type": "display_data"
    }
   ],
   "source": [
    "\n",
    "input_example = {\n",
    "  \"sentence1\": [\"What is Python?\", \"What is Python?\", \"What is Python?\", \"What is Python?\", \"What is Python?\", \"What is Python?\", \"What is Python?\", \"What is Python?\"], \n",
    "  \"sentence2\": [\"My first paragraph\", \"That contains information\", \"information\", \"Python is a programming language\", \"Python\", \"is\", \"program\", \"language\"]\n",
    "}\n",
    "\n",
    "model = BGERerankerUdfModel()\n",
    "\n",
    "context = PythonModelContext({\n",
    "  'model_name': REGISTRED_MODEL_NAME\n",
    "}, None)\n",
    "model.load_context(context)\n",
    "\n",
    "result = model.predict(None, pd.DataFrame(input_example), {\"no_of_concurrency\": 4})\n",
    "display(result)"
   ]
  },
  {
   "cell_type": "code",
   "execution_count": 0,
   "metadata": {
    "application/vnd.databricks.v1+cell": {
     "cellMetadata": {
      "byteLimit": 2048000,
      "rowLimit": 10000
     },
     "inputWidgets": {},
     "nuid": "112b53f3-1e0e-4c00-b1f2-9bbe370c307b",
     "showTitle": false,
     "title": ""
    }
   },
   "outputs": [
    {
     "output_type": "stream",
     "name": "stderr",
     "output_type": "stream",
     "text": [
      "2024/07/18 07:52:42 WARNING mlflow.utils.environment: Encountered an unexpected error while inferring pip requirements (model URI: /local_disk0/repl_tmp_data/ReplId-551b6-e164e-944bb-e/tmp72ar8n6a/model, flavor: python_function), fall back to return ['cloudpickle==2.0.0']. Set logging level to DEBUG to see the full traceback.\n"
     ]
    },
    {
     "output_type": "display_data",
     "data": {
      "application/vnd.jupyter.widget-view+json": {
       "model_id": "541cf8446ba44daeb4da5617ed49bc80",
       "version_major": 2,
       "version_minor": 0
      },
      "text/plain": [
       "Uploading artifacts:   0%|          | 0/6 [00:00<?, ?it/s]"
      ]
     },
     "metadata": {},
     "output_type": "display_data"
    },
    {
     "output_type": "stream",
     "name": "stderr",
     "output_type": "stream",
     "text": [
      "Registered model 'jun_demo.test.test_model' already exists. Creating a new version of this model...\n"
     ]
    },
    {
     "output_type": "display_data",
     "data": {
      "application/vnd.jupyter.widget-view+json": {
       "model_id": "15716114de794608b21d660aeacf3caf",
       "version_major": 2,
       "version_minor": 0
      },
      "text/plain": [
       "Uploading artifacts:   0%|          | 0/6 [00:00<?, ?it/s]"
      ]
     },
     "metadata": {},
     "output_type": "display_data"
    },
    {
     "output_type": "stream",
     "name": "stderr",
     "output_type": "stream",
     "text": [
      "Created version '6' of model 'jun_demo.test.test_model'.\n"
     ]
    }
   ],
   "source": [
    "from mlflow.models.signature import infer_signature\n",
    "\n",
    "signature = infer_signature(model_input=pd.DataFrame(input_example), model_output=result, params={\"no_of_concurrency\": 4})\n",
    "\n",
    "with mlflow.start_run():\n",
    "  model_info = mlflow.pyfunc.log_model(\n",
    "    REGISTRED_MODEL_NAME,\n",
    "    python_model=BGERerankerUdfModel(),\n",
    "    input_example=input_example,\n",
    "    signature=signature,\n",
    "    registered_model_name=f\"{CATALOG}.{SCHEMA}.{REGISTRED_MODEL_NAME}\"\n",
    "  )"
   ]
  },
  {
   "cell_type": "code",
   "execution_count": 0,
   "metadata": {
    "application/vnd.databricks.v1+cell": {
     "cellMetadata": {
      "byteLimit": 2048000,
      "rowLimit": 10000
     },
     "inputWidgets": {},
     "nuid": "437b6cc9-bd48-4a7e-943e-f85c0f492e27",
     "showTitle": false,
     "title": ""
    }
   },
   "outputs": [
    {
     "output_type": "display_data",
     "data": {
      "application/vnd.jupyter.widget-view+json": {
       "model_id": "e274e717560f4ab1bf8f94af8bfcc34a",
       "version_major": 2,
       "version_minor": 0
      },
      "text/plain": [
       "Downloading artifacts:   0%|          | 0/6 [00:00<?, ?it/s]"
      ]
     },
     "metadata": {},
     "output_type": "display_data"
    },
    {
     "output_type": "display_data",
     "data": {
      "text/html": [
       "<style scoped>\n",
       "  .table-result-container {\n",
       "    max-height: 300px;\n",
       "    overflow: auto;\n",
       "  }\n",
       "  table, th, td {\n",
       "    border: 1px solid black;\n",
       "    border-collapse: collapse;\n",
       "  }\n",
       "  th, td {\n",
       "    padding: 5px;\n",
       "  }\n",
       "  th {\n",
       "    text-align: left;\n",
       "  }\n",
       "</style><div class='table-result-container'><table class='table-result'><thead style='background-color: white'><tr><th>sentence1</th><th>sentence2</th><th>scores</th></tr></thead><tbody><tr><td>What is Python?</td><td>My first paragraph</td><td>-9.444510459899902</td></tr><tr><td>What is Python?</td><td>That contains information</td><td>-1.8268609046936035</td></tr><tr><td>What is Python?</td><td>information</td><td>-4.175684928894043</td></tr><tr><td>What is Python?</td><td>Python is a programming language</td><td>6.134361267089844</td></tr><tr><td>What is Python?</td><td>Python</td><td>2.210157632827759</td></tr><tr><td>What is Python?</td><td>is</td><td>-3.809581995010376</td></tr><tr><td>What is Python?</td><td>program</td><td>0.7984319925308228</td></tr><tr><td>What is Python?</td><td>language</td><td>-0.047962214797735214</td></tr></tbody></table></div>"
      ]
     },
     "metadata": {
      "application/vnd.databricks.v1+output": {
       "addedWidgets": {},
       "aggData": [],
       "aggError": "",
       "aggOverflow": false,
       "aggSchema": [],
       "aggSeriesLimitReached": false,
       "aggType": "",
       "arguments": {},
       "columnCustomDisplayInfos": {},
       "data": [
        [
         "What is Python?",
         "My first paragraph",
         -9.444510459899902
        ],
        [
         "What is Python?",
         "That contains information",
         -1.8268609046936035
        ],
        [
         "What is Python?",
         "information",
         -4.175684928894043
        ],
        [
         "What is Python?",
         "Python is a programming language",
         6.134361267089844
        ],
        [
         "What is Python?",
         "Python",
         2.210157632827759
        ],
        [
         "What is Python?",
         "is",
         -3.809581995010376
        ],
        [
         "What is Python?",
         "program",
         0.7984319925308228
        ],
        [
         "What is Python?",
         "language",
         -0.047962214797735214
        ]
       ],
       "datasetInfos": [],
       "dbfsResultPath": null,
       "isJsonSchema": true,
       "metadata": {},
       "overflow": false,
       "plotOptions": {
        "customPlotOptions": {},
        "displayType": "table",
        "pivotAggregation": null,
        "pivotColumns": null,
        "xColumns": null,
        "yColumns": null
       },
       "removedWidgets": [],
       "schema": [
        {
         "metadata": "{}",
         "name": "sentence1",
         "type": "\"string\""
        },
        {
         "metadata": "{}",
         "name": "sentence2",
         "type": "\"string\""
        },
        {
         "metadata": "{}",
         "name": "scores",
         "type": "\"double\""
        }
       ],
       "type": "table"
      }
     },
     "output_type": "display_data"
    }
   ],
   "source": [
    "reranker = mlflow.pyfunc.load_model(model_info.model_uri)\n",
    "result = reranker.predict(pd.DataFrame(input_example), params={\"no_of_concurrency\": 4})\n",
    "display(result)\n"
   ]
  },
  {
   "cell_type": "code",
   "execution_count": 0,
   "metadata": {
    "application/vnd.databricks.v1+cell": {
     "cellMetadata": {
      "byteLimit": 2048000,
      "rowLimit": 10000
     },
     "inputWidgets": {},
     "nuid": "e069177f-b2df-47eb-beee-7502c60f5996",
     "showTitle": false,
     "title": ""
    }
   },
   "outputs": [],
   "source": []
  }
 ],
 "metadata": {
  "application/vnd.databricks.v1+notebook": {
   "dashboards": [],
   "environmentMetadata": null,
   "language": "python",
   "notebookMetadata": {
    "pythonIndentUnit": 2
   },
   "notebookName": "test_mp_endpoint",
   "widgets": {}
  }
 },
 "nbformat": 4,
 "nbformat_minor": 0
}
