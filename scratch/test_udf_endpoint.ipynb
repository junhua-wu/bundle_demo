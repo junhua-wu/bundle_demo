{
 "cells": [
  {
   "cell_type": "code",
   "execution_count": 0,
   "metadata": {
    "application/vnd.databricks.v1+cell": {
     "cellMetadata": {
      "byteLimit": 2048000,
      "rowLimit": 10000
     },
     "inputWidgets": {},
     "nuid": "04885097-aa46-41d1-96d5-3a20aec5256d",
     "showTitle": false,
     "title": ""
    }
   },
   "outputs": [],
   "source": [
    "import mlflow\n",
    "from mlflow.pyfunc.model import PythonModelContext\n",
    "from typing import Optional, Dict, List, Any, Union\n",
    "\n",
    "import pandas as pd\n",
    "from pyspark.sql.functions import pandas_udf\n",
    "from pyspark.sql.types import ArrayType, FloatType, StringType\n",
    "import numpy as np\n",
    "import mlflow.deployments\n"
   ]
  },
  {
   "cell_type": "code",
   "execution_count": 0,
   "metadata": {
    "application/vnd.databricks.v1+cell": {
     "cellMetadata": {
      "byteLimit": 2048000,
      "rowLimit": 10000
     },
     "inputWidgets": {},
     "nuid": "df3ed2b8-fee6-4305-86a8-ba8dfe158a48",
     "showTitle": false,
     "title": ""
    }
   },
   "outputs": [],
   "source": [
    "mlflow.set_registry_uri(\"databricks-uc\")\n",
    "spark.conf.set(\"spark.sql.execution.arrow.maxRecordsPerBatch\", 5000)\n",
    "deploy_client = mlflow.deployments.get_deploy_client(\"databricks\")\n",
    "\n",
    "CATALOG = \"jun_demo\"\n",
    "SCHEMA = \"test\"\n",
    "REGISTRED_MODEL_NAME = \"test_model\"\n",
    "\n",
    "class BGERerankerUdfModel(mlflow.pyfunc.PythonModel):\n",
    "\n",
    "    def load_context(self, context: PythonModelContext):\n",
    "      from pyspark.sql import SparkSession\n",
    "      self.spark = SparkSession.builder.getOrCreate()     \n",
    "      self.model_name = REGISTRED_MODEL_NAME \n",
    "    \n",
    "    def predict(self, context: PythonModelContext, model_input: pd.DataFrame, params: Optional[Dict[str, Any]] = None):\n",
    "\n",
    "      @pandas_udf(FloatType())\n",
    "      def query_embeddings_udf(sentence1: pd.Series, sentence2: pd.Series) -> pd.Series:\n",
    "        inp = {\n",
    "          \"inputs\": {\n",
    "              \"sentence1\": sentence1.to_list(),\n",
    "              \"sentence2\": sentence2.to_list(),\n",
    "              }\n",
    "        }\n",
    "        response = deploy_client.predict(endpoint=\"bge-reranker\", inputs=inp)\n",
    "        return pd.Series(response[\"predictions\"], index=sentence1.index)\n",
    "    \n",
    "      df = pd.DataFrame({\n",
    "        \"sentence1\": model_input[\"sentence1\"],\n",
    "        \"sentence2\": model_input[\"sentence2\"]\n",
    "      })\n",
    "\n",
    "      no_of_concurrency = params.get(\"no_of_concurrency\", 4)\n",
    "      df_sp = self.spark.createDataFrame(df)\n",
    "\n",
    "      rerank_results_df_sp = df_sp.repartition(no_of_concurrency).withColumn(\"scores\", query_embeddings_udf(df_sp[\"sentence1\"], df_sp[\"sentence2\"]))\n",
    "      rerank_results_df = rerank_results_df_sp.toPandas()\n",
    "      return rerank_results_df\n",
    "    \n",
    "  "
   ]
  },
  {
   "cell_type": "code",
   "execution_count": 0,
   "metadata": {
    "application/vnd.databricks.v1+cell": {
     "cellMetadata": {
      "byteLimit": 2048000,
      "rowLimit": 10000
     },
     "inputWidgets": {},
     "nuid": "762ca592-b0e7-46df-af59-e9ceaf79e6b3",
     "showTitle": false,
     "title": ""
    }
   },
   "outputs": [
    {
     "output_type": "display_data",
     "data": {
      "text/html": [
       "<style scoped>\n",
       "  .table-result-container {\n",
       "    max-height: 300px;\n",
       "    overflow: auto;\n",
       "  }\n",
       "  table, th, td {\n",
       "    border: 1px solid black;\n",
       "    border-collapse: collapse;\n",
       "  }\n",
       "  th, td {\n",
       "    padding: 5px;\n",
       "  }\n",
       "  th {\n",
       "    text-align: left;\n",
       "  }\n",
       "</style><div class='table-result-container'><table class='table-result'><thead style='background-color: white'><tr><th>sentence1</th><th>sentence2</th><th>scores</th></tr></thead><tbody><tr><td>What is Python?</td><td>My first paragraph. That contains information</td><td>-9.28367</td></tr><tr><td>What is Python?</td><td>Python is a programming language</td><td>6.1343727</td></tr></tbody></table></div>"
      ]
     },
     "metadata": {
      "application/vnd.databricks.v1+output": {
       "addedWidgets": {},
       "aggData": [],
       "aggError": "",
       "aggOverflow": false,
       "aggSchema": [],
       "aggSeriesLimitReached": false,
       "aggType": "",
       "arguments": {},
       "columnCustomDisplayInfos": {},
       "data": [
        [
         "What is Python?",
         "My first paragraph. That contains information",
         -9.28367
        ],
        [
         "What is Python?",
         "Python is a programming language",
         6.1343727
        ]
       ],
       "datasetInfos": [],
       "dbfsResultPath": null,
       "isJsonSchema": true,
       "metadata": {},
       "overflow": false,
       "plotOptions": {
        "customPlotOptions": {},
        "displayType": "table",
        "pivotAggregation": null,
        "pivotColumns": null,
        "xColumns": null,
        "yColumns": null
       },
       "removedWidgets": [],
       "schema": [
        {
         "metadata": "{}",
         "name": "sentence1",
         "type": "\"string\""
        },
        {
         "metadata": "{}",
         "name": "sentence2",
         "type": "\"string\""
        },
        {
         "metadata": "{}",
         "name": "scores",
         "type": "\"float\""
        }
       ],
       "type": "table"
      }
     },
     "output_type": "display_data"
    }
   ],
   "source": [
    "\n",
    "input_example = {\n",
    "  \"sentence1\": [\"What is Python?\", \"What is Python?\"], \n",
    "  \"sentence2\": [\"My first paragraph. That contains information\", \"Python is a programming language\"]\n",
    "}\n",
    "\n",
    "model = BGERerankerUdfModel()\n",
    "\n",
    "context = PythonModelContext({\n",
    "  'model_name': REGISTRED_MODEL_NAME\n",
    "}, None)\n",
    "model.load_context(context)\n",
    "\n",
    "result = model.predict(None, pd.DataFrame(input_example), {\"no_of_concurrency\": 4})\n",
    "display(result)"
   ]
  },
  {
   "cell_type": "code",
   "execution_count": 0,
   "metadata": {
    "application/vnd.databricks.v1+cell": {
     "cellMetadata": {
      "byteLimit": 2048000,
      "rowLimit": 10000
     },
     "inputWidgets": {},
     "nuid": "112b53f3-1e0e-4c00-b1f2-9bbe370c307b",
     "showTitle": false,
     "title": ""
    }
   },
   "outputs": [
    {
     "output_type": "stream",
     "name": "stderr",
     "output_type": "stream",
     "text": [
      "2024/07/18 07:12:56 WARNING mlflow.utils.environment: Encountered an unexpected error while inferring pip requirements (model URI: /local_disk0/repl_tmp_data/ReplId-65f5c-23745-36b3d-c/tmpm5fg7ak8/model, flavor: python_function), fall back to return ['cloudpickle==2.0.0']. Set logging level to DEBUG to see the full traceback.\n/databricks/python/lib/python3.10/site-packages/_distutils_hack/__init__.py:33: UserWarning: Setuptools is replacing distutils.\n  warnings.warn(\"Setuptools is replacing distutils.\")\n"
     ]
    },
    {
     "output_type": "display_data",
     "data": {
      "application/vnd.jupyter.widget-view+json": {
       "model_id": "6039213f489b4e02b739b6b88144dfd6",
       "version_major": 2,
       "version_minor": 0
      },
      "text/plain": [
       "Uploading artifacts:   0%|          | 0/6 [00:00<?, ?it/s]"
      ]
     },
     "metadata": {},
     "output_type": "display_data"
    },
    {
     "output_type": "stream",
     "name": "stderr",
     "output_type": "stream",
     "text": [
      "Registered model 'jun_demo.test.test_model' already exists. Creating a new version of this model...\n"
     ]
    },
    {
     "output_type": "display_data",
     "data": {
      "application/vnd.jupyter.widget-view+json": {
       "model_id": "43333ef1fc154fb381368fd4a23cc678",
       "version_major": 2,
       "version_minor": 0
      },
      "text/plain": [
       "Uploading artifacts:   0%|          | 0/6 [00:00<?, ?it/s]"
      ]
     },
     "metadata": {},
     "output_type": "display_data"
    },
    {
     "output_type": "stream",
     "name": "stderr",
     "output_type": "stream",
     "text": [
      "Created version '3' of model 'jun_demo.test.test_model'.\n"
     ]
    }
   ],
   "source": [
    "# from mlflow.models.signature import ModelSignature\n",
    "# from mlflow.types.schema import ColSpec, Schema, ParamSpec, ParamSchema\n",
    "# import numpy as np\n",
    "\n",
    "# input_schema = Schema([ColSpec(\"string\", \"sentence1\"), ColSpec(\"string\", \"sentence2\")])\n",
    "\n",
    "# output_schema = Schema([ColSpec(\"string\", \"predictions\")])\n",
    "\n",
    "# param_schema = ParamSchema([ParamSpec(\"max_lenghth\", \"long\", 512)])\n",
    "\n",
    "# signature = ModelSignature(inputs=input_schema, outputs=output_schema, params=param_schema)\n",
    "\n",
    "from mlflow.models.signature import infer_signature\n",
    "\n",
    "signature = infer_signature(model_input=pd.DataFrame(input_example), model_output=result, params={\"max_lenghth\": 512})\n",
    "\n",
    "with mlflow.start_run():\n",
    "  model_info = mlflow.pyfunc.log_model(\n",
    "    REGISTRED_MODEL_NAME,\n",
    "    python_model=BGERerankerUdfModel(),\n",
    "    input_example=input_example,\n",
    "    signature=signature,\n",
    "    registered_model_name=f\"{CATALOG}.{SCHEMA}.{REGISTRED_MODEL_NAME}\"\n",
    "  )"
   ]
  },
  {
   "cell_type": "code",
   "execution_count": 0,
   "metadata": {
    "application/vnd.databricks.v1+cell": {
     "cellMetadata": {
      "byteLimit": 2048000,
      "rowLimit": 10000
     },
     "inputWidgets": {},
     "nuid": "437b6cc9-bd48-4a7e-943e-f85c0f492e27",
     "showTitle": false,
     "title": ""
    }
   },
   "outputs": [
    {
     "output_type": "display_data",
     "data": {
      "application/vnd.jupyter.widget-view+json": {
       "model_id": "c416188cc27d4c86a74d8bf066471882",
       "version_major": 2,
       "version_minor": 0
      },
      "text/plain": [
       "Downloading artifacts:   0%|          | 0/6 [00:00<?, ?it/s]"
      ]
     },
     "metadata": {},
     "output_type": "display_data"
    },
    {
     "output_type": "stream",
     "name": "stderr",
     "output_type": "stream",
     "text": [
      "2024/07/18 07:13:01 WARNING mlflow.models.utils: Unrecognized params ['no_of_concurrency'] are ignored for inference. Supported params are: {'max_lenghth'}. To enable them, please add corresponding schema in ModelSignature.\n"
     ]
    },
    {
     "output_type": "display_data",
     "data": {
      "text/html": [
       "<style scoped>\n",
       "  .table-result-container {\n",
       "    max-height: 300px;\n",
       "    overflow: auto;\n",
       "  }\n",
       "  table, th, td {\n",
       "    border: 1px solid black;\n",
       "    border-collapse: collapse;\n",
       "  }\n",
       "  th, td {\n",
       "    padding: 5px;\n",
       "  }\n",
       "  th {\n",
       "    text-align: left;\n",
       "  }\n",
       "</style><div class='table-result-container'><table class='table-result'><thead style='background-color: white'><tr><th>sentence1</th><th>sentence2</th><th>scores</th></tr></thead><tbody><tr><td>What is Python?</td><td>Python is a programming language</td><td>6.134373</td></tr><tr><td>What is Python?</td><td>My first paragraph. That contains information</td><td>-9.28367</td></tr></tbody></table></div>"
      ]
     },
     "metadata": {
      "application/vnd.databricks.v1+output": {
       "addedWidgets": {},
       "aggData": [],
       "aggError": "",
       "aggOverflow": false,
       "aggSchema": [],
       "aggSeriesLimitReached": false,
       "aggType": "",
       "arguments": {},
       "columnCustomDisplayInfos": {},
       "data": [
        [
         "What is Python?",
         "Python is a programming language",
         6.134373
        ],
        [
         "What is Python?",
         "My first paragraph. That contains information",
         -9.28367
        ]
       ],
       "datasetInfos": [],
       "dbfsResultPath": null,
       "isJsonSchema": true,
       "metadata": {},
       "overflow": false,
       "plotOptions": {
        "customPlotOptions": {},
        "displayType": "table",
        "pivotAggregation": null,
        "pivotColumns": null,
        "xColumns": null,
        "yColumns": null
       },
       "removedWidgets": [],
       "schema": [
        {
         "metadata": "{}",
         "name": "sentence1",
         "type": "\"string\""
        },
        {
         "metadata": "{}",
         "name": "sentence2",
         "type": "\"string\""
        },
        {
         "metadata": "{}",
         "name": "scores",
         "type": "\"float\""
        }
       ],
       "type": "table"
      }
     },
     "output_type": "display_data"
    }
   ],
   "source": [
    "reranker = mlflow.pyfunc.load_model(model_info.model_uri)\n",
    "result = reranker.predict(pd.DataFrame(input_example), params={\"no_of_concurrency\": 4})\n",
    "display(result)\n"
   ]
  },
  {
   "cell_type": "code",
   "execution_count": 0,
   "metadata": {
    "application/vnd.databricks.v1+cell": {
     "cellMetadata": {
      "byteLimit": 2048000,
      "rowLimit": 10000
     },
     "inputWidgets": {},
     "nuid": "e069177f-b2df-47eb-beee-7502c60f5996",
     "showTitle": false,
     "title": ""
    }
   },
   "outputs": [],
   "source": []
  }
 ],
 "metadata": {
  "application/vnd.databricks.v1+notebook": {
   "dashboards": [],
   "environmentMetadata": null,
   "language": "python",
   "notebookMetadata": {
    "pythonIndentUnit": 2
   },
   "notebookName": "test_udf_endpoint",
   "widgets": {}
  }
 },
 "nbformat": 4,
 "nbformat_minor": 0
}
